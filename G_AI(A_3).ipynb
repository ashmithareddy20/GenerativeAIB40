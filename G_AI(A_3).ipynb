{
  "nbformat": 4,
  "nbformat_minor": 0,
  "metadata": {
    "colab": {
      "provenance": [],
      "include_colab_link": true
    },
    "kernelspec": {
      "name": "python3",
      "display_name": "Python 3"
    },
    "language_info": {
      "name": "python"
    }
  },
  "cells": [
    {
      "cell_type": "markdown",
      "metadata": {
        "id": "view-in-github",
        "colab_type": "text"
      },
      "source": [
        "<a href=\"https://colab.research.google.com/github/ashmithareddy20/GenerativeAIB40/blob/main/G_AI(A_3).ipynb\" target=\"_parent\"><img src=\"https://colab.research.google.com/assets/colab-badge.svg\" alt=\"Open In Colab\"/></a>"
      ]
    },
    {
      "cell_type": "code",
      "execution_count": 1,
      "metadata": {
        "colab": {
          "base_uri": "https://localhost:8080/"
        },
        "id": "RJiHRO-4Irg9",
        "outputId": "0bb71e2c-8faf-4b23-8ad0-c13bad06e204"
      },
      "outputs": [
        {
          "output_type": "stream",
          "name": "stdout",
          "text": [
            "The value of x at which f(x) is minimized is: 1.63586104206045e-05\n"
          ]
        }
      ],
      "source": [
        "def gradient_descent_f(initial_x, learning_rate, max_iterations, tolerance):\n",
        "    x = initial_x\n",
        "    for i in range(max_iterations):\n",
        "        # Derivative of f(x): df/dx = 20x^3 + 6x\n",
        "        gradient = 20 * x**3 + 6 * x\n",
        "        next_x = x - learning_rate * gradient\n",
        "        if abs(next_x - x) < tolerance:\n",
        "            break\n",
        "        x = next_x\n",
        "    return x\n",
        "\n",
        "# Parameters\n",
        "initial_x = 1.0\n",
        "learning_rate = 0.01\n",
        "max_iterations = 10000\n",
        "tolerance = 1e-6\n",
        "\n",
        "min_x = gradient_descent_f(initial_x, learning_rate, max_iterations, tolerance)\n",
        "print(f\"The value of x at which f(x) is minimized is: {min_x}\")"
      ]
    },
    {
      "cell_type": "code",
      "source": [
        "def gradient_descent_g(initial_x, initial_y, learning_rate, max_iterations, tolerance):\n",
        "    x, y = initial_x, initial_y\n",
        "    for i in range(max_iterations):\n",
        "        # Partial derivatives:\n",
        "        # dg/dx = 6x\n",
        "        # dg/dy = -5e^(-y)\n",
        "        gradient_x = 6 * x\n",
        "        gradient_y = -5 * pow(2.718, -y)\n",
        "\n",
        "        next_x = x - learning_rate * gradient_x\n",
        "        next_y = y - learning_rate * gradient_y\n",
        "\n",
        "        if abs(next_x - x) < tolerance and abs(next_y - y) < tolerance:\n",
        "            break\n",
        "\n",
        "        x, y = next_x, next_y\n",
        "    return x, y\n",
        "\n",
        "# Parameters\n",
        "initial_x = 1.0\n",
        "initial_y = 1.0\n",
        "learning_rate = 0.01\n",
        "max_iterations = 10000\n",
        "tolerance = 1e-6\n",
        "\n",
        "min_x, min_y = gradient_descent_g(initial_x, initial_y, learning_rate, max_iterations, tolerance)\n",
        "print(f\"The value of x and y at which g(x, y) is minimized are: x = {min_x}, y = {min_y}\")"
      ],
      "metadata": {
        "colab": {
          "base_uri": "https://localhost:8080/"
        },
        "id": "tduVO_PQKznI",
        "outputId": "ec33eb97-9aa0-42a2-c883-754972e7cb49"
      },
      "execution_count": 2,
      "outputs": [
        {
          "output_type": "stream",
          "name": "stdout",
          "text": [
            "The value of x and y at which g(x, y) is minimized are: x = 1.8990482403275175e-269, y = 6.220831124790187\n"
          ]
        }
      ]
    },
    {
      "cell_type": "code",
      "source": [
        "def gradient_descent_sigmoid(initial_x, learning_rate, max_iterations, tolerance):\n",
        "    x = initial_x\n",
        "    for i in range(max_iterations):\n",
        "        # Derivative of z(x): dz/dx = z(x) * (1 - z(x))\n",
        "        sigmoid = 1 / (1 + pow(2.718, -x))  # Sigmoid value\n",
        "        gradient = sigmoid * (1 - sigmoid)  # Derivative\n",
        "        next_x = x - learning_rate * gradient\n",
        "\n",
        "        if abs(next_x - x) < tolerance:  # Check for convergence\n",
        "            break\n",
        "\n",
        "        x = next_x\n",
        "\n",
        "    return x\n",
        "\n",
        "# Parameters\n",
        "initial_x = 1.0\n",
        "learning_rate = 0.01\n",
        "max_iterations = 10000\n",
        "tolerance = 1e-6\n",
        "\n",
        "min_x = gradient_descent_sigmoid(initial_x, learning_rate, max_iterations, tolerance)\n",
        "print(f\"The value of x at which z(x) is minimized is: {min_x}\")"
      ],
      "metadata": {
        "id": "GokeBARMLAzx",
        "colab": {
          "base_uri": "https://localhost:8080/"
        },
        "outputId": "d074e2f8-c79c-4193-bf2a-2fb75620d60c"
      },
      "execution_count": 3,
      "outputs": [
        {
          "output_type": "stream",
          "name": "stdout",
          "text": [
            "The value of x at which z(x) is minimized is: -4.4633751131735755\n"
          ]
        }
      ]
    },
    {
      "cell_type": "code",
      "source": [
        "def gradient_descent_mc(initial_M, initial_C, input_value, expected_output, learning_rate, max_iterations, tolerance):\n",
        "    M, C = initial_M, initial_C\n",
        "    for i in range(max_iterations):\n",
        "        # Predicted output\n",
        "        predicted_output = M * input_value + C\n",
        "\n",
        "        # Square error\n",
        "        error = expected_output - predicted_output\n",
        "        square_error = error**2\n",
        "\n",
        "        # Gradients\n",
        "        gradient_M = -2 * input_value * error\n",
        "        gradient_C = -2 * error\n",
        "\n",
        "        # Update parameters\n",
        "        next_M = M - learning_rate * gradient_M\n",
        "        next_C = C - learning_rate * gradient_C\n",
        "\n",
        "        # Check for convergence\n",
        "        if abs(next_M - M) < tolerance and abs(next_C - C) < tolerance:\n",
        "            break\n",
        "\n",
        "        M, C = next_M, next_C\n",
        "\n",
        "    return M, C, square_error\n",
        "\n",
        "# Parameters\n",
        "initial_M = 0.0\n",
        "initial_C = 0.0\n",
        "input_value = 2.0\n",
        "expected_output = 0.5\n",
        "learning_rate = 0.01\n",
        "max_iterations = 10000\n",
        "tolerance = 1e-6\n",
        "\n",
        "optimal_M, optimal_C, final_error = gradient_descent_mc(\n",
        "    initial_M, initial_C, input_value, expected_output, learning_rate, max_iterations, tolerance\n",
        ")\n",
        "\n",
        "print(f\"Optimal M: {optimal_M}\")\n",
        "print(f\"Optimal C: {optimal_C}\")\n",
        "print(f\"Final Square Error: {final_error}\")"
      ],
      "metadata": {
        "colab": {
          "base_uri": "https://localhost:8080/"
        },
        "id": "o0NlNMECMEq3",
        "outputId": "8c214fb1-d6df-44c2-f77a-791e1b317155"
      },
      "execution_count": 4,
      "outputs": [
        {
          "output_type": "stream",
          "name": "stdout",
          "text": [
            "Optimal M: 0.1999900040083894\n",
            "Optimal C: 0.0999950020041947\n",
            "Final Square Error: 6.244990517449996e-10\n"
          ]
        }
      ]
    }
  ]
}