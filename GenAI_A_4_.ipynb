{
  "nbformat": 4,
  "nbformat_minor": 0,
  "metadata": {
    "colab": {
      "provenance": [],
      "include_colab_link": true
    },
    "kernelspec": {
      "name": "python3",
      "display_name": "Python 3"
    },
    "language_info": {
      "name": "python"
    }
  },
  "cells": [
    {
      "cell_type": "markdown",
      "metadata": {
        "id": "view-in-github",
        "colab_type": "text"
      },
      "source": [
        "<a href=\"https://colab.research.google.com/github/ashmithareddy20/GenerativeAIB40/blob/main/GenAI_A_4_.ipynb\" target=\"_parent\"><img src=\"https://colab.research.google.com/assets/colab-badge.svg\" alt=\"Open In Colab\"/></a>"
      ]
    },
    {
      "cell_type": "code",
      "execution_count": 3,
      "metadata": {
        "colab": {
          "base_uri": "https://localhost:8080/"
        },
        "id": "bxfQVp5-PkKo",
        "outputId": "f467c847-2e32-4c05-8976-0332aba2815b"
      },
      "outputs": [
        {
          "output_type": "stream",
          "name": "stdout",
          "text": [
            "Epoch 0: MSE = 2.777554\n",
            "Epoch 100: MSE = 0.135598\n",
            "Epoch 200: MSE = 0.020769\n",
            "Epoch 300: MSE = 0.014892\n",
            "Epoch 400: MSE = 0.013770\n",
            "Epoch 500: MSE = 0.012908\n",
            "Epoch 600: MSE = 0.012110\n",
            "Epoch 700: MSE = 0.011364\n",
            "Epoch 800: MSE = 0.010665\n",
            "Epoch 900: MSE = 0.010011\n",
            "Test MSE: 0.037787\n",
            "Enter x1, x2, x3: 0.6 0.7 0.8\n",
            "Predicted output: 0.282334\n"
          ]
        }
      ],
      "source": [
        "import numpy as np\n",
        "def train_ann(X_train, y_train, learning_rate=0.01, epochs=1000):\n",
        "    np.random.seed(42)\n",
        "    weights = np.random.randn(X_train.shape[1])\n",
        "    bias = np.random.randn()\n",
        "    for epoch in range(epochs):\n",
        "        y_pred = np.dot(X_train, weights) + bias\n",
        "        error = y_pred - y_train\n",
        "        dw = np.dot(X_train.T, error) / len(y_train)\n",
        "        db = np.mean(error)\n",
        "        weights -= learning_rate * dw\n",
        "        bias -= learning_rate * db\n",
        "        if epoch % 100 == 0:\n",
        "            mse = np.mean(error ** 2)\n",
        "            print(f\"Epoch {epoch}: MSE = {mse:.6f}\")\n",
        "    return weights, bias\n",
        "def mean_squared_error(y_true, y_pred):\n",
        "    return np.mean((y_true - y_pred) ** 2)\n",
        "def predict(X, weights, bias):\n",
        "    return np.dot(X, weights) + bias\n",
        "X_train = np.array([\n",
        "    [0.1, 0.2, 0.3],\n",
        "    [0.2, 0.3, 0.4],\n",
        "    [0.3, 0.4, 0.5],\n",
        "    [0.5, 0.6, 0.7],\n",
        "    [0.1, 0.3, 0.5],\n",
        "    [0.2, 0.4, 0.6],\n",
        "    [0.3, 0.5, 0.7],\n",
        "    [0.4, 0.6, 0.8],\n",
        "    [0.5, 0.7, 0.1]\n",
        "])\n",
        "y_train = np.array([0.14, 0.20, 0.26, 0.38, 0.22, 0.28, 0.34, 0.40, 0.22])\n",
        "weights, bias = train_ann(X_train, y_train)\n",
        "X_test = np.array([\n",
        "    [0.6, 0.7, 0.8],\n",
        "    [0.7, 0.8, 0.9]\n",
        "])\n",
        "y_test = np.array([0.44, 0.50])\n",
        "y_pred_test = predict(X_test, weights, bias)\n",
        "test_mse = mean_squared_error(y_test, y_pred_test)\n",
        "print(f\"Test MSE: {test_mse:.6f}\")\n",
        "x1, x2, x3 = map(float, input(\"Enter x1, x2, x3: \").split())\n",
        "user_input = np.array([[x1, x2, x3]])\n",
        "prediction = predict(user_input, weights, bias)\n",
        "print(f\"Predicted output: {prediction[0]:.6f}\")"
      ]
    },
    {
      "cell_type": "code",
      "source": [
        "import numpy as np\n",
        "def sigmoid(x):\n",
        "    return 1 / (1 + np.exp(-x))\n",
        "def train_ann(X_train, y_train, learning_rate=0.01, epochs=1000):\n",
        "    np.random.seed(42)\n",
        "    weights = np.random.randn(X_train.shape[1])\n",
        "    bias = np.random.randn()\n",
        "    for epoch in range(epochs):\n",
        "        y_pred = sigmoid(np.dot(X_train, weights) + bias)\n",
        "        error = y_pred - y_train\n",
        "        dw = np.dot(X_train.T, error * y_pred * (1 - y_pred)) / len(y_train)\n",
        "        db = np.mean(error * y_pred * (1 - y_pred))\n",
        "        weights -= learning_rate * dw\n",
        "        bias -= learning_rate * db\n",
        "        if epoch % 100 == 0:\n",
        "            mse = np.mean(error ** 2)\n",
        "            print(f\"Epoch {epoch}: MSE = {mse:.6f}\")\n",
        "    return weights, bias\n",
        "def mean_squared_error(y_true, y_pred):\n",
        "    return np.mean((y_true - y_pred) ** 2)\n",
        "def predict(X, weights, bias):\n",
        "    return sigmoid(np.dot(X, weights) + bias)\n",
        "X_train = np.array([\n",
        "    [0.1, 0.2, 0.3],\n",
        "    [0.2, 0.3, 0.4],\n",
        "    [0.3, 0.4, 0.5],\n",
        "    [0.5, 0.6, 0.7],\n",
        "    [0.1, 0.3, 0.5],\n",
        "    [0.2, 0.4, 0.6],\n",
        "    [0.3, 0.5, 0.7],\n",
        "    [0.4, 0.6, 0.8],\n",
        "    [0.5, 0.7, 0.1]\n",
        "])\n",
        "y_train = np.array([0.5349, 0.5498, 0.5646, 0.5939, 0.5548, 0.5695, 0.5842, 0.5987, 0.5548])\n",
        "weights, bias = train_ann(X_train, y_train)\n",
        "X_test = np.array([\n",
        "    [0.6, 0.7, 0.8],\n",
        "    [0.7, 0.8, 0.9]\n",
        "])\n",
        "y_test = np.array([0.6083, 0.6225])\n",
        "y_pred_test = predict(X_test, weights, bias)\n",
        "test_mse = mean_squared_error(y_test, y_pred_test)\n",
        "print(f\"Test MSE: {test_mse:.6f}\")\n",
        "x1, x2, x3 = map(float, input(\"Enter x1, x2, x3: \").split())\n",
        "user_input = np.array([[x1, x2, x3]])\n",
        "prediction = predict(user_input, weights, bias)\n",
        "print(f\"Predicted output: {prediction[0]:.6f}\")"
      ],
      "metadata": {
        "colab": {
          "base_uri": "https://localhost:8080/"
        },
        "id": "0hKEtZDKQVRP",
        "outputId": "cfd6419b-10e7-4387-dba4-4c250461fa2b"
      },
      "execution_count": 5,
      "outputs": [
        {
          "output_type": "stream",
          "name": "stdout",
          "text": [
            "Epoch 0: MSE = 0.093540\n",
            "Epoch 100: MSE = 0.090023\n",
            "Epoch 200: MSE = 0.086372\n",
            "Epoch 300: MSE = 0.082594\n",
            "Epoch 400: MSE = 0.078699\n",
            "Epoch 500: MSE = 0.074699\n",
            "Epoch 600: MSE = 0.070610\n",
            "Epoch 700: MSE = 0.066452\n",
            "Epoch 800: MSE = 0.062250\n",
            "Epoch 900: MSE = 0.058030\n",
            "Test MSE: 0.046565\n",
            "Enter x1, x2, x3: 0.6 0.7 0.8\n",
            "Predicted output: 0.827180\n"
          ]
        }
      ]
    }
  ]
}